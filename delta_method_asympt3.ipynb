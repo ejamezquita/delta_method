{
  "nbformat": 4,
  "nbformat_minor": 0,
  "metadata": {
    "colab": {
      "provenance": []
    },
    "kernelspec": {
      "name": "python3",
      "display_name": "Python 3"
    },
    "language_info": {
      "name": "python"
    }
  },
  "cells": [
    {
      "cell_type": "markdown",
      "source": [
        "# Nonlinear regression using lmfit combined with using the delta method to estimate confidence intervals and prediction intervals\n",
        "\n",
        "**An example using an asymptotic 3-parameter exponential function**\n",
        "\n",
        "by Greg Pelletier (gjpelletier@gmail.com)\n",
        "\n",
        "This script uses the python package called lmfit for nonlinear regression. We also include a new function using the delta method, to extend beyond the capabilities of lmfit, to estimate confidence intervals for predicted values, and prediction intervals for new data, using the nonlinear regression fit.\n",
        "\n",
        "The lmfit package is used to find the best-fit values and the variance-covariance matrix of the model parameters. The user may specify any expression for the nonlinear regression model. The lmfit package is described at the following link:\n",
        "\n",
        "https://lmfit.github.io//lmfit-py/index.html\n",
        "\n",
        "In this example we use a 3-parameter asymptotic exponential function to fit an observed data set for calcification rates of hard clams from Ries et al (2009) (https://doi.org/10.1130/G30210A.1)\n",
        "\n",
        "To estimate the confidence intervals and prediction intervals, we use a new python function that applies the delta method. The delta method is described in detail in Section 5.1 of this online lecture:\n",
        "\n",
        "https://jchiquet.github.io/MAP566/docs/regression/map566-lecture-nonlinear-regression.html\n",
        "\n",
        "___\n",
        "\n",
        "First we need to install lmfit if it is not already installed:\n"
      ],
      "metadata": {
        "id": "oNVN8kLuLBWI"
      }
    },
    {
      "cell_type": "code",
      "source": [
        "pip install lmfit"
      ],
      "metadata": {
        "colab": {
          "base_uri": "https://localhost:8080/"
        },
        "id": "L3t5w3Wu4yq-",
        "outputId": "e380b400-83a4-4b05-f050-c83a17278ddc"
      },
      "execution_count": 1,
      "outputs": [
        {
          "output_type": "stream",
          "name": "stdout",
          "text": [
            "Collecting lmfit\n",
            "  Downloading lmfit-1.2.2-py3-none-any.whl (102 kB)\n",
            "\u001b[2K     \u001b[90m━━━━━━━━━━━━━━━━━━━━━━━━━━━━━━━━━━━━━━━━\u001b[0m \u001b[32m103.0/103.0 kB\u001b[0m \u001b[31m1.9 MB/s\u001b[0m eta \u001b[36m0:00:00\u001b[0m\n",
            "\u001b[?25hCollecting asteval>=0.9.28 (from lmfit)\n",
            "  Downloading asteval-0.9.31-py3-none-any.whl (20 kB)\n",
            "Requirement already satisfied: numpy>=1.19 in /usr/local/lib/python3.10/dist-packages (from lmfit) (1.23.5)\n",
            "Requirement already satisfied: scipy>=1.6 in /usr/local/lib/python3.10/dist-packages (from lmfit) (1.11.4)\n",
            "Collecting uncertainties>=3.1.4 (from lmfit)\n",
            "  Downloading uncertainties-3.1.7-py2.py3-none-any.whl (98 kB)\n",
            "\u001b[2K     \u001b[90m━━━━━━━━━━━━━━━━━━━━━━━━━━━━━━━━━━━━━━━━\u001b[0m \u001b[32m98.4/98.4 kB\u001b[0m \u001b[31m4.4 MB/s\u001b[0m eta \u001b[36m0:00:00\u001b[0m\n",
            "\u001b[?25hRequirement already satisfied: future in /usr/local/lib/python3.10/dist-packages (from uncertainties>=3.1.4->lmfit) (0.18.3)\n",
            "Installing collected packages: uncertainties, asteval, lmfit\n",
            "Successfully installed asteval-0.9.31 lmfit-1.2.2 uncertainties-3.1.7\n"
          ]
        }
      ]
    },
    {
      "cell_type": "markdown",
      "source": [
        "Next we import the necessary python packages:"
      ],
      "metadata": {
        "id": "ntR7RyZt49go"
      }
    },
    {
      "cell_type": "code",
      "source": [
        "import matplotlib.pyplot as plt\n",
        "import numpy as np\n",
        "from numpy import loadtxt\n",
        "from numpy import exp, linspace, sin\n",
        "import lmfit as fit\n",
        "from lmfit.models import ExpressionModel"
      ],
      "metadata": {
        "id": "JbMGcYTRLCHc"
      },
      "execution_count": 2,
      "outputs": []
    },
    {
      "cell_type": "markdown",
      "source": [
        "Next we will use example observations from Ries et al (2009) for hard clams, where x= TA:DIC, and y= calcification rate (mmol/g/hr)"
      ],
      "metadata": {
        "id": "17kPphF8MAYQ"
      }
    },
    {
      "cell_type": "code",
      "source": [
        "x = np.array([1.14705882, 1.14705882, 1.14705882, 1.14705882, 1.14705882,\n",
        "       1.14705882, 1.14705882, 1.10570071, 1.10570071, 1.10570071,\n",
        "       1.10570071, 1.10570071, 1.06117782, 1.06117782, 1.06117782,\n",
        "       1.06117782, 1.06117782, 1.06117782, 1.06117782, 0.99613713,\n",
        "       0.99613713, 0.99613713, 0.99613713, 0.99613713, 0.99613713])\n",
        "y = np.array([ 1.08235921e-04,  3.33033603e-05,  1.33213441e-04,  6.66067206e-05,\n",
        "        4.16292004e-05,  5.41179605e-05,  2.49775202e-05,  5.82808805e-05,\n",
        "        4.99550405e-05,  3.74662803e-05,  7.49325607e-05,  2.91404403e-05,\n",
        "        5.82808805e-05, -1.66516802e-05,  2.91404403e-05,  6.24438006e-05,\n",
        "        4.99550405e-05,  3.74662803e-05,  4.16292004e-06, -9.57471609e-05,\n",
        "       -1.37376361e-04, -1.24887601e-04, -6.66067206e-05, -7.90954807e-05,\n",
        "       -7.07696407e-05])"
      ],
      "metadata": {
        "id": "cmrh2bIxMA8d"
      },
      "execution_count": 3,
      "outputs": []
    },
    {
      "cell_type": "markdown",
      "source": [
        "We will use the ExpressionModel function of lmfit to specify the 3-parameter asymptotic exponential function that we want to fit to our data:"
      ],
      "metadata": {
        "id": "mNB9loQQMRV5"
      }
    },
    {
      "cell_type": "code",
      "source": [
        "mod = ExpressionModel('b1 + b2 * exp(b3 * x)')"
      ],
      "metadata": {
        "id": "FKx5ZcETMRlY"
      },
      "execution_count": 4,
      "outputs": []
    },
    {
      "cell_type": "markdown",
      "source": [
        "The next step is to define the initial values for the parameters (b1, b2, b3) of the model function. We will assume that the intial values for b2 and b3 are zero, and the intial value for b1 is the 10th percentile of the observed y values. In other words, the intial guess for the model result is a constant value equal to the 10th percentile of y at all observed x values."
      ],
      "metadata": {
        "id": "7LQtrZimRyRf"
      }
    },
    {
      "cell_type": "code",
      "source": [
        "b1_init = np.percentile(y,10)\n",
        "b2_init = 0\n",
        "b3_init = 0"
      ],
      "metadata": {
        "id": "-Z9Yl5QeRzO6"
      },
      "execution_count": 5,
      "outputs": []
    },
    {
      "cell_type": "markdown",
      "source": [
        "Now we can build the set of the initial parameter values as follows:\n"
      ],
      "metadata": {
        "id": "FG4sYf9gN3xD"
      }
    },
    {
      "cell_type": "code",
      "source": [
        "pars = fit.Parameters()\n",
        "pars['b1'] = fit.Parameter(name='b1', value=b1_init, min=-np.inf, max=np.inf)\n",
        "pars['b2'] = fit.Parameter(name='b2', value=b2_init, min=-np.inf, max=np.inf)\n",
        "pars['b3'] = fit.Parameter(name='b3', value=b3_init, min=-np.inf, max=np.inf)"
      ],
      "metadata": {
        "id": "-_IabiD2O382"
      },
      "execution_count": 6,
      "outputs": []
    },
    {
      "cell_type": "markdown",
      "source": [
        "Now we are ready to run lmfit to find the best-fit parameters and variance covariance matrix of the model. The output results will be stored in \"out\""
      ],
      "metadata": {
        "id": "kVknszGdOigL"
      }
    },
    {
      "cell_type": "code",
      "source": [
        "out = mod.fit(y, pars, x=x)"
      ],
      "metadata": {
        "id": "z1yUAqs1OizP"
      },
      "execution_count": 7,
      "outputs": []
    },
    {
      "cell_type": "markdown",
      "source": [
        "We can print out a summary of the model fit results as follows:"
      ],
      "metadata": {
        "id": "fqH1zO1KOu6a"
      }
    },
    {
      "cell_type": "code",
      "source": [
        "print(out.fit_report())"
      ],
      "metadata": {
        "id": "7hSN-e-JOvJw",
        "colab": {
          "base_uri": "https://localhost:8080/"
        },
        "outputId": "963f4684-1eec-4124-f4b4-7faeb30fbb28"
      },
      "execution_count": 8,
      "outputs": [
        {
          "output_type": "stream",
          "name": "stdout",
          "text": [
            "[[Model]]\n",
            "    Model(_eval)\n",
            "[[Fit Statistics]]\n",
            "    # fitting method   = leastsq\n",
            "    # function evals   = 1358\n",
            "    # data points      = 25\n",
            "    # variables        = 3\n",
            "    chi-square         = 2.0705e-08\n",
            "    reduced chi-square = 9.4115e-10\n",
            "    Akaike info crit   = -516.793759\n",
            "    Bayesian info crit = -513.137132\n",
            "    R-squared          = 0.82814534\n",
            "[[Variables]]\n",
            "    b1:  6.9536e-05 +/- 1.6571e-05 (23.83%) (init = -8.908649e-05)\n",
            "    b2: -675690.644 +/- 5434582.63 (804.30%) (init = 0)\n",
            "    b3: -22.2179771 +/- 8.14731279 (36.67%) (init = 0)\n",
            "[[Correlations]] (unreported correlations are < 0.100)\n",
            "    C(b2, b3) = +0.9999\n",
            "    C(b1, b3) = +0.8711\n",
            "    C(b1, b2) = +0.8671\n"
          ]
        }
      ]
    },
    {
      "cell_type": "markdown",
      "source": [
        "The best-fit values of the model parameters can now be extracted into a numpy array that we named \"param\" from the lmfit results as follows:"
      ],
      "metadata": {
        "id": "fLHH32O0T5z4"
      }
    },
    {
      "cell_type": "code",
      "source": [
        "param=np.array(out.params)\n",
        "param"
      ],
      "metadata": {
        "id": "_aJZAAa2T6De",
        "colab": {
          "base_uri": "https://localhost:8080/"
        },
        "outputId": "8de623cb-77ee-4352-f9e0-018b4081e7f7"
      },
      "execution_count": 9,
      "outputs": [
        {
          "output_type": "execute_result",
          "data": {
            "text/plain": [
              "array([ 6.95359357e-05, -6.75690644e+05, -2.22179771e+01])"
            ]
          },
          "metadata": {},
          "execution_count": 9
        }
      ]
    },
    {
      "cell_type": "markdown",
      "source": [
        "The variance-covariance matrix of the model parameters can be extracted into a numpy array that we name \"COVB\" as follows:"
      ],
      "metadata": {
        "id": "1u6r3JaLUGt0"
      }
    },
    {
      "cell_type": "code",
      "source": [
        "COVB = out.covar\n",
        "COVB"
      ],
      "metadata": {
        "id": "al3DlRroUG8f",
        "colab": {
          "base_uri": "https://localhost:8080/"
        },
        "outputId": "209814e5-c36e-4eb8-c6fc-c8660816b199"
      },
      "execution_count": 10,
      "outputs": [
        {
          "output_type": "execute_result",
          "data": {
            "text/plain": [
              "array([[2.74594848e-10, 7.80906960e+01, 1.17605058e-04],\n",
              "       [7.80906960e+01, 2.95346884e+13, 4.42740165e+07],\n",
              "       [1.17605058e-04, 4.42740165e+07, 6.63787056e+01]])"
            ]
          },
          "metadata": {},
          "execution_count": 10
        }
      ]
    },
    {
      "cell_type": "markdown",
      "source": [
        "Now we have almost everything we need in order to estimate the confidence intervals and prediction intervals of the model. Before doing that, we need to define a function that will apply the delta method as follows:"
      ],
      "metadata": {
        "id": "f502We_tUHTQ"
      }
    },
    {
      "cell_type": "code",
      "source": [
        "def delta_method(COVB,param,x_new,f,x,y,alpha):\n",
        "    # - - -\n",
        "    # Function to calculate the confidence interval and prediction interval\n",
        "    # for any user-defined regression function using the delta-method\n",
        "    # as described in Sec 5.1 of the following online statistics lecture:\n",
        "    # https://jchiquet.github.io/MAP566/docs/regression/map566-lecture-nonlinear-regression.html\n",
        "    #\n",
        "    # Greg Pelletier (gjpelletier@gmail.com)\n",
        "    # - - -\n",
        "    # INPUT\n",
        "    # COVB = variance-covariance matrix of the model parameters (e.g. out.covar from lmfit)\n",
        "    # param = best-fit parameters of the regression function\n",
        "    # x_new = new x values to evaluate new predicted y_new values (e.g. x_new=linspace(min(x),max(x),100)\n",
        "    # f = user-defined regression lambda function to predict y given inputs if param and x values (e.g. observed x or x_new)\n",
        "    # \tFor example, if using the 3-parameter nonlinear regression exponential threshold function, then\n",
        "    # \tf = lambda param,xval : param[0] + param[1] * exp(param[2] * xval)\n",
        "    # x = observed x\n",
        "    # y = observed y\n",
        "    # alpha = significance level for the confidence/prediction interval (e.g. alpha=0.05 is the 95% confidence/prediction interval)\n",
        "    # - - -\n",
        "    # OUTPUT\n",
        "    # y_new = predicted y values at x_new\n",
        "    # lwr_conf = lower confidence interval for each value in x_new\n",
        "    # upr_conf = upper confidence interval for each value in x_new\n",
        "    # lwr_pred = lower prediction interval for each value in x_new\n",
        "    # upr_pred = upper prediction interval for each value in x_new\n",
        "    # pvalue = signficance level of the regression from the probability of the F-test\n",
        "    import numpy as np\n",
        "    from scipy import stats\n",
        "    # - - -\n",
        "    # calculate predicted y_new at each x_new\n",
        "    y_new = f(param,x_new)\n",
        "    # calculate derivative gradients at x_new (change in f(x_new) per change in each param using +1ppb change in each param)\n",
        "    grad_new = np.empty(shape=(np.size(x_new),np.size(param)))\n",
        "    h = 1e-8       # h= small change for each param to balance truncation error and rounding error of the gradient\n",
        "    for i in range(np.size(param)):\n",
        "        # make a copy of param\n",
        "        param2 = np.copy(param)\n",
        "        # gradient forward\n",
        "        param2[i] = (1+h) * param[i]\n",
        "        y_new2 = f(param2, x_new)\n",
        "        dy = y_new2 - y_new\n",
        "        dparam = param2[i] - param[i]\n",
        "        grad_up = dy / dparam\n",
        "        # gradient backward\n",
        "        param2[i] = (1-h) * param[i]\n",
        "        y_new2 = f(param2, x_new)\n",
        "        dy = y_new2 - y_new\n",
        "        dparam = param2[i] - param[i]\n",
        "        grad_dn = dy / dparam\n",
        "        # centered gradient is the average gradient forward and backward\n",
        "        grad_new[:,i] = (grad_up + grad_dn) / 2\n",
        "    # calculate variance in y_new due to each parameter and for all parameters combined\n",
        "    G_new = np.matmul(grad_new,COVB) * grad_new         # variance in y_new due to each param at each x_new\n",
        "    GS_new = np.sum(G_new,axis=1)                       # total variance from all param values at each x_new\n",
        "    # - - -\n",
        "    # # lwr_conf and upr_conf are confidence intervals of the best-fit curve\n",
        "    nobs = np.size(x)\n",
        "    nparam = np.size(param)\n",
        "    df = nobs - nparam\n",
        "    qt = stats.t.ppf(1-alpha/2, df)\n",
        "    delta_f = np.sqrt(GS_new) * qt\n",
        "    lwr_conf = y_new - delta_f\n",
        "    upr_conf = y_new + delta_f\n",
        "    # - - -\n",
        "    # # lwr_pred and upr_pred are prediction intervals of new observations\n",
        "    yhat = f(param,x)\n",
        "    SSE = np.sum((y-yhat) ** 2)                 # sum of squares (residual error)\n",
        "    MSE = SSE / df                              # mean square (residual error)\n",
        "    syx = np.sqrt(MSE)                          # std error of the estimate\n",
        "    delta_y = np.sqrt(GS_new + MSE) * qt\n",
        "    lwr_pred = y_new - delta_y\n",
        "    upr_pred = y_new + delta_y\n",
        "    # - - -\n",
        "    # optional additional outputs of regression statistics\n",
        "    SST = np.sum(y **2) - np.sum(y) **2 / nobs  # sum of squares (total)\n",
        "    SSR = SST - SSE                             # sum of squares (regression model)\n",
        "    MSR = SSR / (np.size(param)-1)              # mean square (regression model)\n",
        "    Fstat = MSR / MSE           # F statistic\n",
        "    dfn = np.size(param) - 1    # df numerator = degrees of freedom for model = number of model parameters - 1\n",
        "    dfd = df                    # df denomenator = degrees of freedom of the residual = df = nobs - nparam\n",
        "    pvalue = 1-stats.f.cdf(Fstat, dfn, dfd)      # p-value of F test statistic\n",
        "    rsquared = SSR / SST                                                        # ordinary rsquared\n",
        "    adj_rsquared = 1-(1-rsquared)*(np.size(x)-1)/(np.size(x)-np.size(param)-1)  # adjusted rsquared\n",
        "    # - - -\n",
        "    return y_new, lwr_conf, upr_conf, lwr_pred, upr_pred, pvalue"
      ],
      "metadata": {
        "id": "lcbGFOPpUHi0"
      },
      "execution_count": 11,
      "outputs": []
    },
    {
      "cell_type": "markdown",
      "source": [
        "Before using the delta_method function, we first need to make a few more inputs for it as follows:"
      ],
      "metadata": {
        "id": "jFN6xvz9UmKG"
      }
    },
    {
      "cell_type": "code",
      "source": [
        "# model lambda function to use for any param or xval\n",
        "f = lambda param,xval : param[0] + param[1] * exp(param[2] * xval)\n",
        "\n",
        "# evenly spaced new observations that extend from below min(x) to above max(x)\n",
        "x_new = linspace(.95, 1.3, 100)\n",
        "\n",
        "# probability level for the prediction limits (e.g. alpha=0.05 for 95% prediction limits and 95% confidence limits)\n",
        "alpha=0.05"
      ],
      "metadata": {
        "id": "WyXnVjSMUmWt"
      },
      "execution_count": 12,
      "outputs": []
    },
    {
      "cell_type": "markdown",
      "source": [
        "Now we are ready to use the delta_method function to find the predicted y_new values, and the 95% prediction limits (lwr_pred and upr_pred), and 95% confidence limits (lwr_conf and upr_conf), at alpha=0.05 for new observations (x_new)"
      ],
      "metadata": {
        "id": "bzNKUGpl9lfy"
      }
    },
    {
      "cell_type": "code",
      "source": [
        "y_new, lwr_conf, upr_conf, lwr_pred, upr_pred, pvalue = delta_method(COVB,param,x_new,f,x,y,alpha)"
      ],
      "metadata": {
        "id": "Qc7EqAds98a8"
      },
      "execution_count": 13,
      "outputs": []
    },
    {
      "cell_type": "markdown",
      "source": [
        "Now we can plot the results of lmfit, combined with the results of the delta_method function to estimate the prediction intervals and confidence intervals."
      ],
      "metadata": {
        "id": "1nD8KFAT-BHM"
      }
    },
    {
      "cell_type": "code",
      "source": [
        "# make string values of fit stats and eqn for the plot labels\n",
        "pstr = '%.2e' %pvalue\n",
        "rsquared = out.rsquared\n",
        "rsqstr = '%.4f' %rsquared\n",
        "b1str = '%.3e' %param[0]\n",
        "b2str = '%.3e' %param[1]\n",
        "b3str = '%.3e' %param[2]\n",
        "eqnstr = 'y = ' + b2str + ' exp(' + b3str + ' * x) + ' + b1str\n",
        "\n",
        "# generate the plot\n",
        "plt.figure()\n",
        "plt.plot(x, y, '.', label='observations')\n",
        "# observations\n",
        "plt.plot(x_new, y_new, '-', label='best fit')\n",
        "# 95% prediction limits using the delta method\n",
        "plt.fill_between(x_new, lwr_pred, upr_pred,color=\"#d3d3d3\", label='95% prediction interval')\n",
        "# 95% confidence limits using the delta method\n",
        "plt.fill_between(x_new, lwr_conf, upr_conf,color=\"#ABABAB\", label='95% confidence interval')\n",
        "plt.legend(loc='lower right')\n",
        "plt.suptitle('Delta-method for prediction and confidence intervals')\n",
        "plt.title('using hard clam data from Ries et al (2009)')\n",
        "plt.xlabel('x= TA:DIC')\n",
        "plt.ylabel('y= calcification rate (mmol/g/hr)')\n",
        "plt.text(1.0, -.0004, eqnstr, fontsize = 9)\n",
        "plt.text(1.0, -.00045, 'r^2 = '+rsqstr+', p = '+pstr, fontsize = 9)\n",
        "# plt.ticklabel_format(style='plain', axis='y')\n",
        "plt.ticklabel_format(style='sci', axis='y', scilimits=(0,0))"
      ],
      "metadata": {
        "colab": {
          "base_uri": "https://localhost:8080/",
          "height": 497
        },
        "id": "KO6NHDFp-UcJ",
        "outputId": "8a0b0340-2818-4a07-dd14-bf5d4ea8ac3d"
      },
      "execution_count": 14,
      "outputs": [
        {
          "output_type": "display_data",
          "data": {
            "text/plain": [
              "<Figure size 640x480 with 1 Axes>"
            ],
            "image/png": "[encoded data removed]"
          },
          "metadata": {}
        }
      ]
    }
  ]
}