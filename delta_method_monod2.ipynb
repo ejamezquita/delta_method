{
  "nbformat": 4,
  "nbformat_minor": 0,
  "metadata": {
    "colab": {
      "provenance": []
    },
    "kernelspec": {
      "name": "python3",
      "display_name": "Python 3"
    },
    "language_info": {
      "name": "python"
    }
  },
  "cells": [
    {
      "cell_type": "markdown",
      "source": [
        "# Nonlinear regression using lmfit combined with using the delta method to estimate confidence intervals and prediction intervals\n",
        "\n",
        "**An example using a 2-parameter Monod function**\n",
        "\n",
        "by Greg Pelletier (gjpelletier@gmail.com)\n",
        "\n",
        "This script uses the python package called lmfit for nonlinear regression. We also include a new function using the delta method, to extend beyond the capabilities of lmfit, to estimate confidence intervals for predicted values, and prediction intervals for new data, using the nonlinear regression fit.\n",
        "\n",
        "The lmfit package is used to find the best-fit values and the variance-covariance matrix of the model parameters. The user may specify any expression for the nonlinear regression model. The lmfit package is described at the following link:\n",
        "\n",
        "https://lmfit.github.io//lmfit-py/index.html\n",
        "\n",
        "In this example we use a 2-parameter Monod function (Michaelis-Menten) to fit an enzymology data set (https://rforbiochemists.blogspot.com/2015/05/plotting-and-fitting-enzymology-data.html)\n",
        "\n",
        "To estimate the confidence intervals and prediction intervals, we use a new python function that applies the delta method. The delta method is described in detail in Section 5.1 of this online lecture:\n",
        "\n",
        "https://jchiquet.github.io/MAP566/docs/regression/map566-lecture-nonlinear-regression.html#the-delta-method\n",
        "\n",
        "___\n",
        "\n",
        "First we need to install lmfit if it is not already installed:\n"
      ],
      "metadata": {
        "id": "oNVN8kLuLBWI"
      }
    },
    {
      "cell_type": "code",
      "source": [
        "pip install lmfit"
      ],
      "metadata": {
        "colab": {
          "base_uri": "https://localhost:8080/"
        },
        "id": "L3t5w3Wu4yq-",
        "outputId": "b0156dcd-b300-420b-fdd8-32b62f48e523"
      },
      "execution_count": 1,
      "outputs": [
        {
          "output_type": "stream",
          "name": "stdout",
          "text": [
            "Collecting lmfit\n",
            "  Downloading lmfit-1.2.2-py3-none-any.whl (102 kB)\n",
            "\u001b[2K     \u001b[90m━━━━━━━━━━━━━━━━━━━━━━━━━━━━━━━━━━━━━━━━\u001b[0m \u001b[32m103.0/103.0 kB\u001b[0m \u001b[31m2.0 MB/s\u001b[0m eta \u001b[36m0:00:00\u001b[0m\n",
            "\u001b[?25hCollecting asteval>=0.9.28 (from lmfit)\n",
            "  Downloading asteval-0.9.31-py3-none-any.whl (20 kB)\n",
            "Requirement already satisfied: numpy>=1.19 in /usr/local/lib/python3.10/dist-packages (from lmfit) (1.23.5)\n",
            "Requirement already satisfied: scipy>=1.6 in /usr/local/lib/python3.10/dist-packages (from lmfit) (1.11.4)\n",
            "Collecting uncertainties>=3.1.4 (from lmfit)\n",
            "  Downloading uncertainties-3.1.7-py2.py3-none-any.whl (98 kB)\n",
            "\u001b[2K     \u001b[90m━━━━━━━━━━━━━━━━━━━━━━━━━━━━━━━━━━━━━━━━\u001b[0m \u001b[32m98.4/98.4 kB\u001b[0m \u001b[31m9.6 MB/s\u001b[0m eta \u001b[36m0:00:00\u001b[0m\n",
            "\u001b[?25hRequirement already satisfied: future in /usr/local/lib/python3.10/dist-packages (from uncertainties>=3.1.4->lmfit) (0.18.3)\n",
            "Installing collected packages: uncertainties, asteval, lmfit\n",
            "Successfully installed asteval-0.9.31 lmfit-1.2.2 uncertainties-3.1.7\n"
          ]
        }
      ]
    },
    {
      "cell_type": "markdown",
      "source": [
        "Next we import the necessary python packages:"
      ],
      "metadata": {
        "id": "ntR7RyZt49go"
      }
    },
    {
      "cell_type": "code",
      "source": [
        "import matplotlib.pyplot as plt\n",
        "import numpy as np\n",
        "from numpy import loadtxt\n",
        "from numpy import exp, linspace, sin\n",
        "import lmfit as fit\n",
        "from lmfit.models import ExpressionModel"
      ],
      "metadata": {
        "id": "JbMGcYTRLCHc"
      },
      "execution_count": 2,
      "outputs": []
    },
    {
      "cell_type": "markdown",
      "source": [
        "Next we will data from an enzyme study, where x= substrate (mmol), and y= velocity (nmmol/sec)"
      ],
      "metadata": {
        "id": "17kPphF8MAYQ"
      }
    },
    {
      "cell_type": "code",
      "source": [
        "x = np.array([0,1,2,5,8,12,30,50])\n",
        "y = np.array([0,11.1,25.4,44.8,54.5,58.2,72,60.1])"
      ],
      "metadata": {
        "id": "cmrh2bIxMA8d"
      },
      "execution_count": 3,
      "outputs": []
    },
    {
      "cell_type": "markdown",
      "source": [
        "We will use the ExpressionModel function of lmfit to specify the 2-parameter Monod function that we want to fit to our data:"
      ],
      "metadata": {
        "id": "mNB9loQQMRV5"
      }
    },
    {
      "cell_type": "code",
      "source": [
        "mod = ExpressionModel('(Vm * x)/(Km + x)')"
      ],
      "metadata": {
        "id": "FKx5ZcETMRlY"
      },
      "execution_count": 4,
      "outputs": []
    },
    {
      "cell_type": "markdown",
      "source": [
        "The next step is to define the initial values for the parameters Vm and Km of the model function"
      ],
      "metadata": {
        "id": "7LQtrZimRyRf"
      }
    },
    {
      "cell_type": "code",
      "source": [
        "Vm_init = 60\n",
        "Km_init = 5"
      ],
      "metadata": {
        "id": "-Z9Yl5QeRzO6"
      },
      "execution_count": 5,
      "outputs": []
    },
    {
      "cell_type": "markdown",
      "source": [
        "Now we can build the set of the initial parameter values as follows:\n"
      ],
      "metadata": {
        "id": "FG4sYf9gN3xD"
      }
    },
    {
      "cell_type": "code",
      "source": [
        "pars = fit.Parameters()\n",
        "pars['Vm'] = fit.Parameter(name='Vm', value=Vm_init, min=-np.inf, max=np.inf)\n",
        "pars['Km'] = fit.Parameter(name='Km', value=Km_init, min=-np.inf, max=np.inf)"
      ],
      "metadata": {
        "id": "-_IabiD2O382"
      },
      "execution_count": 6,
      "outputs": []
    },
    {
      "cell_type": "markdown",
      "source": [
        "Now we are ready to run lmfit to find the best-fit parameters and variance covariance matrix of the model. The output results will be stored in \"out\""
      ],
      "metadata": {
        "id": "kVknszGdOigL"
      }
    },
    {
      "cell_type": "code",
      "source": [
        "out = mod.fit(y, pars, x=x)"
      ],
      "metadata": {
        "id": "z1yUAqs1OizP"
      },
      "execution_count": 7,
      "outputs": []
    },
    {
      "cell_type": "markdown",
      "source": [
        "We can print out a summary of the model fit results as follows:"
      ],
      "metadata": {
        "id": "fqH1zO1KOu6a"
      }
    },
    {
      "cell_type": "code",
      "source": [
        "print(out.fit_report())"
      ],
      "metadata": {
        "id": "7hSN-e-JOvJw",
        "colab": {
          "base_uri": "https://localhost:8080/"
        },
        "outputId": "d3e8d28d-40fa-4fc6-d40b-88b72471beef"
      },
      "execution_count": 8,
      "outputs": [
        {
          "output_type": "stream",
          "name": "stdout",
          "text": [
            "[[Model]]\n",
            "    Model(_eval)\n",
            "[[Fit Statistics]]\n",
            "    # fitting method   = leastsq\n",
            "    # function evals   = 22\n",
            "    # data points      = 8\n",
            "    # variables        = 2\n",
            "    chi-square         = 156.447238\n",
            "    reduced chi-square = 26.0745396\n",
            "    Akaike info crit   = 27.7862182\n",
            "    Bayesian info crit = 27.9451013\n",
            "    R-squared          = 0.96625571\n",
            "[[Variables]]\n",
            "    Vm:  73.2614087 +/- 4.58241018 (6.25%) (init = 60)\n",
            "    Km:  3.43716914 +/- 0.81732291 (23.78%) (init = 5)\n",
            "[[Correlations]] (unreported correlations are < 0.100)\n",
            "    C(Vm, Km) = +0.7906\n"
          ]
        }
      ]
    },
    {
      "cell_type": "markdown",
      "source": [
        "The best-fit values of the model parameters can now be extracted into a numpy array that we named \"param\" from the lmfit results as follows:"
      ],
      "metadata": {
        "id": "fLHH32O0T5z4"
      }
    },
    {
      "cell_type": "code",
      "source": [
        "param=np.array(out.params)\n",
        "param"
      ],
      "metadata": {
        "id": "_aJZAAa2T6De",
        "colab": {
          "base_uri": "https://localhost:8080/"
        },
        "outputId": "a644adaa-d3d7-4b9c-fa07-b3589facdd9f"
      },
      "execution_count": 9,
      "outputs": [
        {
          "output_type": "execute_result",
          "data": {
            "text/plain": [
              "array([73.26140869,  3.43716914])"
            ]
          },
          "metadata": {},
          "execution_count": 9
        }
      ]
    },
    {
      "cell_type": "markdown",
      "source": [
        "The variance-covariance matrix of the model parameters can be extracted into a numpy array that we name \"COVB\" as follows:"
      ],
      "metadata": {
        "id": "1u6r3JaLUGt0"
      }
    },
    {
      "cell_type": "code",
      "source": [
        "COVB = out.covar\n",
        "COVB"
      ],
      "metadata": {
        "id": "al3DlRroUG8f",
        "colab": {
          "base_uri": "https://localhost:8080/"
        },
        "outputId": "64f3aeee-d530-4273-9651-b1667c8a4927"
      },
      "execution_count": 10,
      "outputs": [
        {
          "output_type": "execute_result",
          "data": {
            "text/plain": [
              "array([[20.99848301,  2.96093853],\n",
              "       [ 2.96093853,  0.66801673]])"
            ]
          },
          "metadata": {},
          "execution_count": 10
        }
      ]
    },
    {
      "cell_type": "markdown",
      "source": [
        "Now we have almost everything we need in order to estimate the confidence intervals and prediction intervals of the model. Before doing that, we need to define a function that will apply the delta method as follows:"
      ],
      "metadata": {
        "id": "f502We_tUHTQ"
      }
    },
    {
      "cell_type": "code",
      "source": [
        "def delta_method(COVB,param,x_new,f,x,y,alpha):\n",
        "    # - - -\n",
        "    # Function to calculate the confidence interval and prediction interval\n",
        "    # for any user-defined regression function using the delta-method\n",
        "    # as described in Sec 5.1 of the following online statistics lecture:\n",
        "    # https://jchiquet.github.io/MAP566/docs/regression/map566-lecture-nonlinear-regression.html\n",
        "    #\n",
        "    # Greg Pelletier (gjpelletier@gmail.com)\n",
        "    # - - -\n",
        "    # INPUT\n",
        "    # COVB = variance-covariance matrix of the model parameters (e.g. out.covar from lmfit)\n",
        "    # param = best-fit parameters of the regression function\n",
        "    # x_new = new x values to evaluate new predicted y_new values (e.g. x_new=linspace(min(x),max(x),100)\n",
        "    # f = user-defined regression lambda function to predict y given inputs if param and x values (e.g. observed x or x_new)\n",
        "    # \tFor example, if using the 3-parameter nonlinear regression exponential threshold function, then\n",
        "    # \tf = lambda param,xval : param[0] + param[1] * exp(param[2] * xval)\n",
        "    # x = observed x\n",
        "    # y = observed y\n",
        "    # alpha = significance level for the confidence/prediction interval (e.g. alpha=0.05 is the 95% confidence/prediction interval)\n",
        "    # - - -\n",
        "    # OUTPUT\n",
        "    # dict = dictionary of output varlables with the following keys:\n",
        "    #        'param': best-fit parameter values used as input\n",
        "    #        'COVB': variance-covariance matrix used as input\n",
        "    #        'fstr': string of the input lambda function of the regression model\n",
        "    #        'alpha': input significance level for the confidence/prediction interval (e.g. alpha=0.05 is the 95% confidence/prediction interval)\n",
        "    #        'x': observed x values used as input\n",
        "    #        'y': observed y values used as input\n",
        "    #        'yhat': predicted y at observed x values\n",
        "    #        'x_new': new x-values used as input to evaluate unew predicted y_new values\n",
        "    #        'y_new': new predicted y_new values at new x_new values\n",
        "    #        'lwr_conf': lower confidence interval for each value in x_new\n",
        "    #        'upr_conf': upper confidence interval for each value in x_new\n",
        "    #        'lwr_pred': lower prediction interval for each value in x_new\n",
        "    #        'upr_pred': upper prediction interval for each value in x_new\n",
        "    #        'G_new': variance due to each paramter at x_new\n",
        "    #        'GS_new': variance due to all parameters combined at x_new\n",
        "    #        'SST': Sum of Squares Total\n",
        "    #        'SSR': Sum of Squares Regression\n",
        "    #        'SSE': Sum of Squares Error\n",
        "    #        'MSR': Mean Square Regression\n",
        "    #        'MSE': Mean Square Error of the residuals\n",
        "    #        'syx': standard error of the estimate\n",
        "    #        'nobs': number of observations\n",
        "    #        'nparam': number of parameters\n",
        "    #        'df': degrees of freedom = nobs-nparam\n",
        "    #        'qt': 2-tailed t-statistic at alpha\n",
        "    #        'Fstat': F-statistic = MSR/MSE\n",
        "    #        'dfn': degrees of freedom for the numerator of the F-test = nparam-1\n",
        "    #        'dfd': degrees of freedom for the denominator of the F-test = nobs-nparam\n",
        "    #        'pvalue': signficance level of the regression from the probability of the F-test\n",
        "    #        'rsquared': r-squared = SSR/SST\n",
        "    #        'adj_rsquared': adjusted squared\n",
        "    import numpy as np\n",
        "    from scipy import stats\n",
        "    import inspect\n",
        "    # - - -\n",
        "    # calculate predicted y_new at each x_new\n",
        "    y_new = f(param,x_new)\n",
        "    # calculate derivative gradients at x_new (change in f(x_new) per change in each param using +1ppb change in each param)\n",
        "    grad_new = np.empty(shape=(np.size(x_new),np.size(param)))\n",
        "    h = 1e-8       # h= small change for each param to balance truncation error and rounding error of the gradient\n",
        "    for i in range(np.size(param)):\n",
        "        # make a copy of param\n",
        "        param2 = np.copy(param)\n",
        "        # gradient forward\n",
        "        param2[i] = (1+h) * param[i]\n",
        "        y_new2 = f(param2, x_new)\n",
        "        dy = y_new2 - y_new\n",
        "        dparam = param2[i] - param[i]\n",
        "        grad_up = dy / dparam\n",
        "        # gradient backward\n",
        "        param2[i] = (1-h) * param[i]\n",
        "        y_new2 = f(param2, x_new)\n",
        "        dy = y_new2 - y_new\n",
        "        dparam = param2[i] - param[i]\n",
        "        grad_dn = dy / dparam\n",
        "        # centered gradient is the average gradient forward and backward\n",
        "        grad_new[:,i] = (grad_up + grad_dn) / 2\n",
        "    # calculate variance in y_new due to each parameter and for all parameters combined\n",
        "    G_new = np.matmul(grad_new,COVB) * grad_new         # variance in y_new due to each param at each x_new\n",
        "    GS_new = np.sum(G_new,axis=1)                       # total variance from all param values at each x_new\n",
        "    # - - -\n",
        "    # # lwr_conf and upr_conf are confidence intervals of the best-fit curve\n",
        "    nobs = np.size(x)\n",
        "    nparam = np.size(param)\n",
        "    df = nobs - nparam\n",
        "    qt = stats.t.ppf(1-alpha/2, df)\n",
        "    delta_f = np.sqrt(GS_new) * qt\n",
        "    lwr_conf = y_new - delta_f\n",
        "    upr_conf = y_new + delta_f\n",
        "    # - - -\n",
        "    # # lwr_pred and upr_pred are prediction intervals of new observations\n",
        "    yhat = f(param,x)\n",
        "    SSE = np.sum((y-yhat) ** 2)                 # sum of squares (residual error)\n",
        "    MSE = SSE / df                              # mean square (residual error)\n",
        "    syx = np.sqrt(MSE)                          # std error of the estimate\n",
        "    delta_y = np.sqrt(GS_new + MSE) * qt\n",
        "    lwr_pred = y_new - delta_y\n",
        "    upr_pred = y_new + delta_y\n",
        "    # - - -\n",
        "    # optional additional outputs of regression statistics\n",
        "    SST = np.sum(y **2) - np.sum(y) **2 / nobs  # sum of squares (total)\n",
        "    SSR = SST - SSE                             # sum of squares (regression model)\n",
        "    MSR = SSR / (np.size(param)-1)              # mean square (regression model)\n",
        "    Fstat = MSR / MSE           # F statistic\n",
        "    dfn = np.size(param) - 1    # df numerator = degrees of freedom for model = number of model parameters - 1\n",
        "    dfd = df                    # df denomenator = degrees of freedom of the residual = df = nobs - nparam\n",
        "    pvalue = 1-stats.f.cdf(Fstat, dfn, dfd)      # p-value of F test statistic\n",
        "    rsquared = SSR / SST                                                        # ordinary rsquared\n",
        "    adj_rsquared = 1-(1-rsquared)*(np.size(x)-1)/(np.size(x)-np.size(param)-1)  # adjusted rsquared\n",
        "    # - - -\n",
        "    # make a string of the lambda function f to save in the output dictionary\n",
        "    fstr = str(inspect.getsourcelines(f)[0])\n",
        "    # make the dictionary of output variables from the delta-method\n",
        "    dict = {\n",
        "            'param': param,\n",
        "            'COVB': COVB,\n",
        "            'fstr': fstr,\n",
        "            'alpha': alpha,\n",
        "            'x': x,\n",
        "            'y': y,\n",
        "            'yhat': yhat,\n",
        "            'x_new': x_new,\n",
        "            'y_new': y_new,\n",
        "            'lwr_conf': lwr_conf,\n",
        "            'upr_conf': upr_conf,\n",
        "            'lwr_pred': lwr_pred,\n",
        "            'upr_pred': upr_pred,\n",
        "            'G_new': G_new,\n",
        "            'GS_new': GS_new,\n",
        "            'SST': SST,\n",
        "            'SSR': SSR,\n",
        "            'SSE': SSE,\n",
        "            'MSR': MSR,\n",
        "            'MSE': MSE,\n",
        "            'syx': syx,\n",
        "            'nobs': nobs,\n",
        "            'nparam': nparam,\n",
        "            'df': df,\n",
        "            'qt': qt,\n",
        "            'Fstat': Fstat,\n",
        "            'dfn': dfn,\n",
        "            'dfd': dfd,\n",
        "            'pvalue': pvalue,\n",
        "            'rsquared': rsquared,\n",
        "            'adj_rsquared': adj_rsquared\n",
        "            }\n",
        "\n",
        "    return dict"
      ],
      "metadata": {
        "id": "lcbGFOPpUHi0"
      },
      "execution_count": 11,
      "outputs": []
    },
    {
      "cell_type": "markdown",
      "source": [
        "Before using the delta_method function, we first need to make a few more inputs for it as follows (NOTE: make sure that the lambda function f below matches the ExpressionModel function defined earlier):"
      ],
      "metadata": {
        "id": "jFN6xvz9UmKG"
      }
    },
    {
      "cell_type": "code",
      "source": [
        "# model lambda function to use for any param or xval\n",
        "f = lambda param,xval : (param[0] * xval) / (param[1] + xval)\n",
        "\n",
        "# evenly spaced new observations that extend from below min(x) to above max(x)\n",
        "x_new = linspace(0, 50, 100)\n",
        "\n",
        "# probability level for the prediction limits (e.g. alpha=0.05 for 95% prediction limits and 95% confidence limits)\n",
        "alpha=0.05"
      ],
      "metadata": {
        "id": "WyXnVjSMUmWt"
      },
      "execution_count": 12,
      "outputs": []
    },
    {
      "cell_type": "markdown",
      "source": [
        "Now we are ready to use the delta_method function to get its outut dictionary, which includes the predicted y_new values, and the 95% prediction limits (lwr_pred and upr_pred), and 95% confidence limits (lwr_conf and upr_conf), at alpha=0.05 for new observations (x_new), as well as other regression statistics"
      ],
      "metadata": {
        "id": "bzNKUGpl9lfy"
      }
    },
    {
      "cell_type": "code",
      "source": [
        "d = delta_method(COVB,param,x_new,f,x,y,alpha)"
      ],
      "metadata": {
        "id": "Qc7EqAds98a8"
      },
      "execution_count": 13,
      "outputs": []
    },
    {
      "cell_type": "markdown",
      "source": [
        "Now we can plot the results of lmfit, combined with the results of the delta_method function to estimate the prediction intervals and confidence intervals."
      ],
      "metadata": {
        "id": "1nD8KFAT-BHM"
      }
    },
    {
      "cell_type": "code",
      "source": [
        "# extract the output values we need for the plot from the delta-method output dictionary\n",
        "y_new = d['y_new']\n",
        "lwr_conf = d['lwr_conf']\n",
        "upr_conf = d['upr_conf']\n",
        "lwr_pred = d['lwr_pred']\n",
        "upr_pred = d['upr_pred']\n",
        "rsquared = d['rsquared']\n",
        "pvalue = d['pvalue']\n",
        "\n",
        "# make string values of fit stats and eqn for the plot labels\n",
        "pstr = '%.2e' %pvalue\n",
        "rsqstr = '%.4f' %rsquared\n",
        "b1str = '%.2f' %param[0]\n",
        "b2str = '%.3f' %param[1]\n",
        "eqnstr = 'y = (' + b1str + ' * x) + (' + b2str + ' + x)'\n",
        "\n",
        "# generate the plot\n",
        "plt.figure()\n",
        "plt.plot(x, y, '.', label='observations')\n",
        "# observations\n",
        "plt.plot(x_new, y_new, '-', label='best fit')\n",
        "# 95% prediction limits using the delta method\n",
        "plt.fill_between(x_new, lwr_pred, upr_pred,color=\"#d3d3d3\", label='95% prediction interval')\n",
        "# 95% confidence limits using the delta method\n",
        "plt.fill_between(x_new, lwr_conf, upr_conf,color=\"#ABABAB\", label='95% confidence interval')\n",
        "plt.legend(loc='lower right')\n",
        "plt.suptitle('Delta-method for prediction and confidence intervals')\n",
        "plt.title('using a 2-parameter Monod function of enzymology data')\n",
        "plt.xlabel('x= substrate (mM)')\n",
        "plt.ylabel('y= enzyme velocity (nmol/sec)')\n",
        "plt.text(15, 23, eqnstr, fontsize = 10)\n",
        "plt.text(15, 18, 'r^2 = '+rsqstr+', p = '+pstr, fontsize = 10)\n",
        "plt.ticklabel_format(style='plain', axis='y')\n",
        "# plt.ticklabel_format(style='sci', axis='y', scilimits=(0,0))"
      ],
      "metadata": {
        "colab": {
          "base_uri": "https://localhost:8080/",
          "height": 497
        },
        "id": "KO6NHDFp-UcJ",
        "outputId": "2fd4279b-4b0d-41b5-a50d-de7471cc777c"
      },
      "execution_count": 14,
      "outputs": [
        {
          "output_type": "display_data",
          "data": {
            "text/plain": [
              "<Figure size 640x480 with 1 Axes>"
            ],
            "image/png": "[encoded data removed]"
          },
          "metadata": {}
        }
      ]
    },
    {
      "cell_type": "markdown",
      "source": [
        "More regression statistics calculated using the delta method:"
      ],
      "metadata": {
        "id": "jmYOzkeULFbe"
      }
    },
    {
      "cell_type": "code",
      "source": [
        "# extract the output values we need for the regression stats\n",
        "pvalue = d['pvalue']\n",
        "rsquared = d['rsquared']\n",
        "adj_rsquared = d['adj_rsquared']\n",
        "qt = d['qt']\n",
        "MSE = d['MSE']\n",
        "syx = d['syx']\n",
        "df = d['df']\n",
        "\n",
        "# print the regression stats\n",
        "print('p-value of the regression F test = ' + '%.2e' %pvalue)\n",
        "print('rsquared = ' + '%.4f' %rsquared)\n",
        "print('adjusted rsquared = ' + '%.4f' %adj_rsquared)\n",
        "print('2-tailed t-statistic at alpha ' + '%.2f' %alpha + ' used for confidence/prediction intervals = ' + '%.3f' %qt)\n",
        "print('Mean Square Error (MSE) of the residuals = ' + '%.3e' %MSE)\n",
        "print('standard error of the regression = ' + '%.3e' %syx)\n",
        "print('degrees of freedom (number of observations - number of parameters) = ' + '%.0f' %df)"
      ],
      "metadata": {
        "colab": {
          "base_uri": "https://localhost:8080/"
        },
        "id": "NIY7yeLzLGC1",
        "outputId": "08e42892-71d2-4888-91f9-6f7729a13f27"
      },
      "execution_count": 15,
      "outputs": [
        {
          "output_type": "stream",
          "name": "stdout",
          "text": [
            "p-value of the regression F test = 1.22e-05\n",
            "rsquared = 0.9663\n",
            "adjusted rsquared = 0.9528\n",
            "2-tailed t-statistic at alpha 0.05 used for confidence/prediction intervals = 2.447\n",
            "Mean Square Error (MSE) of the residuals = 2.607e+01\n",
            "standard error of the regression = 5.106e+00\n",
            "degrees of freedom (number of observations - number of parameters) = 6\n"
          ]
        }
      ]
    }
  ]
}