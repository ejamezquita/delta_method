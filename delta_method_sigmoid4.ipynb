{
  "nbformat": 4,
  "nbformat_minor": 0,
  "metadata": {
    "colab": {
      "provenance": []
    },
    "kernelspec": {
      "name": "python3",
      "display_name": "Python 3"
    },
    "language_info": {
      "name": "python"
    }
  },
  "cells": [
    {
      "cell_type": "markdown",
      "source": [
        "# Nonlinear regression using lmfit combined with using the delta method to estimate confidence intervals and prediction intervals\n",
        "\n",
        "**An example using a 4-parameter logistic function with a sigmoid shape**\n",
        "\n",
        "by Greg Pelletier (gjpelletier@gmail.com)\n",
        "\n",
        "This script uses the python package called lmfit for nonlinear regression. We also include a new function using the delta method, to extend beyond the capabilities of lmfit, to estimate confidence intervals for predicted values, and prediction intervals for new data, using the nonlinear regression fit.\n",
        "\n",
        "The lmfit package is used to find the best-fit values and the variance-covariance matrix of the model parameters. The user may specify any expression for the nonlinear regression model. The lmfit package is described at the following link:\n",
        "\n",
        "https://lmfit.github.io//lmfit-py/index.html\n",
        "\n",
        "In this example we use a 4-parameter logistic function with a sigmoid shape to fit an observed data set. The data set that we use provided by the R base package datasets, and consist of the waiting time between eruptions and the duration of the eruption for the Old Faithful geyser in Yellowstone National Park, Wyoming, USA.\n",
        "\n",
        "To estimate the confidence intervals and prediction intervals, we use a new python function that applies the delta method. The delta method is described in detail in Section 5.1 of this online lecture:\n",
        "\n",
        "https://jchiquet.github.io/MAP566/docs/regression/map566-lecture-nonlinear-regression.html\n",
        "\n",
        "___\n",
        "\n",
        "First we need to install lmfit if it is not already installed:\n"
      ],
      "metadata": {
        "id": "oNVN8kLuLBWI"
      }
    },
    {
      "cell_type": "code",
      "source": [
        "pip install lmfit"
      ],
      "metadata": {
        "colab": {
          "base_uri": "https://localhost:8080/"
        },
        "id": "L3t5w3Wu4yq-",
        "outputId": "629e3445-a37e-48ce-ec71-55700e7a3115"
      },
      "execution_count": 1,
      "outputs": [
        {
          "output_type": "stream",
          "name": "stdout",
          "text": [
            "Collecting lmfit\n",
            "  Downloading lmfit-1.2.2-py3-none-any.whl (102 kB)\n",
            "\u001b[2K     \u001b[90m━━━━━━━━━━━━━━━━━━━━━━━━━━━━━━━━━━━━━━━━\u001b[0m \u001b[32m103.0/103.0 kB\u001b[0m \u001b[31m2.5 MB/s\u001b[0m eta \u001b[36m0:00:00\u001b[0m\n",
            "\u001b[?25hCollecting asteval>=0.9.28 (from lmfit)\n",
            "  Downloading asteval-0.9.31-py3-none-any.whl (20 kB)\n",
            "Requirement already satisfied: numpy>=1.19 in /usr/local/lib/python3.10/dist-packages (from lmfit) (1.23.5)\n",
            "Requirement already satisfied: scipy>=1.6 in /usr/local/lib/python3.10/dist-packages (from lmfit) (1.11.4)\n",
            "Collecting uncertainties>=3.1.4 (from lmfit)\n",
            "  Downloading uncertainties-3.1.7-py2.py3-none-any.whl (98 kB)\n",
            "\u001b[2K     \u001b[90m━━━━━━━━━━━━━━━━━━━━━━━━━━━━━━━━━━━━━━━━\u001b[0m \u001b[32m98.4/98.4 kB\u001b[0m \u001b[31m5.8 MB/s\u001b[0m eta \u001b[36m0:00:00\u001b[0m\n",
            "\u001b[?25hRequirement already satisfied: future in /usr/local/lib/python3.10/dist-packages (from uncertainties>=3.1.4->lmfit) (0.18.3)\n",
            "Installing collected packages: uncertainties, asteval, lmfit\n",
            "Successfully installed asteval-0.9.31 lmfit-1.2.2 uncertainties-3.1.7\n"
          ]
        }
      ]
    },
    {
      "cell_type": "markdown",
      "source": [
        "Next we import the necessary python packages:"
      ],
      "metadata": {
        "id": "ntR7RyZt49go"
      }
    },
    {
      "cell_type": "code",
      "source": [
        "import matplotlib.pyplot as plt\n",
        "import numpy as np\n",
        "from numpy import loadtxt\n",
        "from numpy import exp, linspace, sin\n",
        "import lmfit as fit\n",
        "from lmfit.models import ExpressionModel"
      ],
      "metadata": {
        "id": "JbMGcYTRLCHc"
      },
      "execution_count": 2,
      "outputs": []
    },
    {
      "cell_type": "markdown",
      "source": [
        "Next we will use an example provided by the R base package datasets, and consist of the waiting time between eruptions and the duration of the eruption for the Old Faithful geyser in Yellowstone National Park, Wyoming, USA. In this example, x= duration of the eruption (minutes), and y= waiting time between eruptions (minutes)."
      ],
      "metadata": {
        "id": "17kPphF8MAYQ"
      }
    },
    {
      "cell_type": "code",
      "source": [
        "x = np.array([3.6,1.8,3.333,2.283,4.533,2.883,4.7,3.6,1.95,4.35,1.833,3.917,\n",
        "              4.2,1.75,4.7,2.167,1.75,4.8,1.6,4.25,1.8,1.75,3.45,3.067,4.533,3.6,1.967,\n",
        "              4.083,3.85,4.433,4.3,4.467,3.367,4.033,3.833,2.017,1.867,4.833,1.833,4.783,\n",
        "              4.35,1.883,4.567,1.75,4.533,3.317,3.833,2.1,4.633,2,4.8,4.716,1.833,4.833,\n",
        "              1.733,4.883,3.717,1.667,4.567,4.317,2.233,4.5,1.75,4.8,1.817,4.4,4.167,4.7,\n",
        "              2.067,4.7,4.033,1.967,4.5,4,1.983,5.067,2.017,4.567,3.883,3.6,4.133,4.333,\n",
        "              4.1,2.633,4.067,4.933,3.95,4.517,2.167,4,2.2,4.333,1.867,4.817,1.833,4.3,\n",
        "              4.667,3.75,1.867,4.9,2.483,4.367,2.1,4.5,4.05,1.867,4.7,1.783,4.85,3.683,\n",
        "              4.733,2.3,4.9,4.417,1.7,4.633,2.317,4.6,1.817,4.417,2.617,4.067,4.25,1.967,\n",
        "              4.6,3.767,1.917,4.5,2.267,4.65,1.867,4.167,2.8,4.333,1.833,4.383,1.883,4.933,\n",
        "              2.033,3.733,4.233,2.233,4.533,4.817,4.333,1.983,4.633,2.017,5.1,1.8,5.033,\n",
        "              4,2.4,4.6,3.567,4,4.5,4.083,1.8,3.967,2.2,4.15,2,3.833,3.5,4.583,2.367,5,\n",
        "              1.933,4.617,1.917,2.083,4.583,3.333,4.167,4.333,4.5,2.417,4,4.167,1.883,\n",
        "              4.583,4.25,3.767,2.033,4.433,4.083,1.833,4.417,2.183,4.8,1.833,4.8,4.1,\n",
        "              3.966,4.233,3.5,4.366,2.25,4.667,2.1,4.35,4.133,1.867,4.6,1.783,4.367,\n",
        "              3.85,1.933,4.5,2.383,4.7,1.867,3.833,3.417,4.233,2.4,4.8,2,4.15,1.867,\n",
        "              4.267,1.75,4.483,4,4.117,4.083,4.267,3.917,4.55,4.083,2.417,4.183,2.217,\n",
        "              4.45,1.883,1.85,4.283,3.95,2.333,4.15,2.35,4.933,2.9,4.583,3.833,2.083,\n",
        "              4.367,2.133,4.35,2.2,4.45,3.567,4.5,4.15,3.817,3.917,4.45,2,4.283,4.767,\n",
        "              4.533,1.85,4.25,1.983,2.25,4.75,4.117,2.15,4.417,1.817,4.467])\n",
        "y = np.array([79,54,74,62,85,55,88,85,51,85,54,84,78,47,83,52,62,84,52,79,51,47,78,69,\n",
        "              74,83,55,76,78,79,73,77,66,80,74,52,48,80,59,90,80,58,84,58,73,83,64,53,\n",
        "              82,59,75,90,54,80,54,83,71,64,77,81,59,84,48,82,60,92,78,78,65,73,82,56,\n",
        "              79,71,62,76,60,78,76,83,75,82,70,65,73,88,76,80,48,86,60,90,50,78,63,72,\n",
        "              84,75,51,82,62,88,49,83,81,47,84,52,86,81,75,59,89,79,59,81,50,85,59,87,\n",
        "              53,69,77,56,88,81,45,82,55,90,45,83,56,89,46,82,51,86,53,79,81,60,82,77,\n",
        "              76,59,80,49,96,53,77,77,65,81,71,70,81,93,53,89,45,86,58,78,66,76,63,88,\n",
        "              52,93,49,57,77,68,81,81,73,50,85,74,55,77,83,83,51,78,84,46,83,55,81,57,\n",
        "              76,84,77,81,87,77,51,78,60,82,91,53,78,46,77,84,49,83,71,80,49,75,64,76,\n",
        "              53,94,55,76,50,82,54,75,78,79,78,78,70,79,70,54,86,50,90,54,54,77,79,64,\n",
        "              75,47,86,63,85,82,57,82,67,74,54,83,73,73,88,80,71,83,56,79,78,84,58,83,\n",
        "              43,60,75,81,46,90,46,74])"
      ],
      "metadata": {
        "id": "cmrh2bIxMA8d"
      },
      "execution_count": 3,
      "outputs": []
    },
    {
      "cell_type": "markdown",
      "source": [
        "We will use the ExpressionModel function of lmfit to specify the 4-parameter logistic function with a sigmoid shape that we want to fit to our data:"
      ],
      "metadata": {
        "id": "mNB9loQQMRV5"
      }
    },
    {
      "cell_type": "code",
      "source": [
        "mod = ExpressionModel('(A-S) / ( 1 + exp(-gamma * (x - tau)) ) + S')"
      ],
      "metadata": {
        "id": "FKx5ZcETMRlY"
      },
      "execution_count": 4,
      "outputs": []
    },
    {
      "cell_type": "markdown",
      "source": [
        "The next step is to define the initial values for the parameters of the model function. We will assume that the intial values for A=90, gamma=2, tau=2, S=50 as follows:"
      ],
      "metadata": {
        "id": "elAyIbsOfaKY"
      }
    },
    {
      "cell_type": "code",
      "source": [
        "A_init = 90\n",
        "gamma_init = 2\n",
        "tau_init = 2\n",
        "S_init = 50"
      ],
      "metadata": {
        "id": "sM3qKbmRffuU"
      },
      "execution_count": 5,
      "outputs": []
    },
    {
      "cell_type": "markdown",
      "source": [
        "Now we can build the set of the initial parameter values as follows:"
      ],
      "metadata": {
        "id": "FG4sYf9gN3xD"
      }
    },
    {
      "cell_type": "code",
      "source": [
        "pars = fit.Parameters()\n",
        "pars['A'] = fit.Parameter(name='A', value=A_init, min=-np.inf, max=np.inf)\n",
        "pars['gamma'] = fit.Parameter(name='gamma', value=gamma_init, min=-np.inf, max=np.inf)\n",
        "pars['tau'] = fit.Parameter(name='tau', value=tau_init, min=-np.inf, max=np.inf)\n",
        "pars['S'] = fit.Parameter(name='S', value=S_init, min=-np.inf, max=np.inf)"
      ],
      "metadata": {
        "id": "-_IabiD2O382"
      },
      "execution_count": 6,
      "outputs": []
    },
    {
      "cell_type": "markdown",
      "source": [
        "Now we are ready to run lmfit to find the best-fit parameters and variance covariance matrix of the model. The output results will be stored in \"out\""
      ],
      "metadata": {
        "id": "kVknszGdOigL"
      }
    },
    {
      "cell_type": "code",
      "source": [
        "out = mod.fit(y, pars, x=x)"
      ],
      "metadata": {
        "id": "z1yUAqs1OizP"
      },
      "execution_count": 7,
      "outputs": []
    },
    {
      "cell_type": "markdown",
      "source": [
        "We can print out a summary of the model fit results as follows:"
      ],
      "metadata": {
        "id": "fqH1zO1KOu6a"
      }
    },
    {
      "cell_type": "code",
      "source": [
        "print(out.fit_report())"
      ],
      "metadata": {
        "id": "7hSN-e-JOvJw",
        "colab": {
          "base_uri": "https://localhost:8080/"
        },
        "outputId": "c38f4814-887d-4a8d-81a7-ac4ae1154cc0"
      },
      "execution_count": 8,
      "outputs": [
        {
          "output_type": "stream",
          "name": "stdout",
          "text": [
            "[[Model]]\n",
            "    Model(_eval)\n",
            "[[Fit Statistics]]\n",
            "    # fitting method   = leastsq\n",
            "    # function evals   = 60\n",
            "    # data points      = 272\n",
            "    # variables        = 4\n",
            "    chi-square         = 8469.42359\n",
            "    reduced chi-square = 31.6023268\n",
            "    Akaike info crit   = 943.249061\n",
            "    Bayesian info crit = 957.672270\n",
            "    R-squared          = 0.83090615\n",
            "[[Variables]]\n",
            "    A:      82.4660404 +/- 0.99770817 (1.21%) (init = 90)\n",
            "    gamma:  2.25386376 +/- 0.43544396 (19.32%) (init = 2)\n",
            "    tau:    3.05525924 +/- 0.11068420 (3.62%) (init = 2)\n",
            "    S:      51.3218514 +/- 1.83125060 (3.57%) (init = 50)\n",
            "[[Correlations]] (unreported correlations are < 0.100)\n",
            "    C(gamma, S)   = +0.8634\n",
            "    C(A, gamma)   = -0.7706\n",
            "    C(tau, S)     = +0.7277\n",
            "    C(A, S)       = -0.5381\n",
            "    C(gamma, tau) = +0.4699\n"
          ]
        }
      ]
    },
    {
      "cell_type": "markdown",
      "source": [
        "The best-fit values of the model parameters can now be extracted into a numpy array that we named \"param\" from the lmfit results as follows:"
      ],
      "metadata": {
        "id": "fLHH32O0T5z4"
      }
    },
    {
      "cell_type": "code",
      "source": [
        "param=np.array(out.params)\n",
        "param"
      ],
      "metadata": {
        "id": "_aJZAAa2T6De",
        "colab": {
          "base_uri": "https://localhost:8080/"
        },
        "outputId": "a51dce34-7e79-4609-bede-f137aa211c63"
      },
      "execution_count": 9,
      "outputs": [
        {
          "output_type": "execute_result",
          "data": {
            "text/plain": [
              "array([82.46604039,  2.25386376,  3.05525924, 51.32185143])"
            ]
          },
          "metadata": {},
          "execution_count": 9
        }
      ]
    },
    {
      "cell_type": "markdown",
      "source": [
        "The variance-covariance matrix of the model parameters can be extracted into a numpy array that we name \"COVB\" as follows:"
      ],
      "metadata": {
        "id": "1u6r3JaLUGt0"
      }
    },
    {
      "cell_type": "code",
      "source": [
        "COVB = out.covar\n",
        "COVB"
      ],
      "metadata": {
        "id": "al3DlRroUG8f",
        "colab": {
          "base_uri": "https://localhost:8080/"
        },
        "outputId": "f45aa47e-2697-4723-ef10-0f4ad6478eec"
      },
      "execution_count": 10,
      "outputs": [
        {
          "output_type": "execute_result",
          "data": {
            "text/plain": [
              "array([[ 9.95421585e-01, -3.34797388e-01,  2.19380329e-03,\n",
              "        -9.83094996e-01],\n",
              "       [-3.34797388e-01,  1.89611447e-01,  2.26490620e-02,\n",
              "         6.88507824e-01],\n",
              "       [ 2.19380329e-03,  2.26490620e-02,  1.22509924e-02,\n",
              "         1.47504440e-01],\n",
              "       [-9.83094996e-01,  6.88507824e-01,  1.47504440e-01,\n",
              "         3.35347875e+00]])"
            ]
          },
          "metadata": {},
          "execution_count": 10
        }
      ]
    },
    {
      "cell_type": "markdown",
      "source": [
        "Now we have almost everything we need in order to estimate the confidence intervals and prediction intervals of the model. Before doing that, we need to define a function that will apply the delta method as follows:"
      ],
      "metadata": {
        "id": "f502We_tUHTQ"
      }
    },
    {
      "cell_type": "code",
      "source": [
        "def delta_method(COVB,param,x_new,f,x,y,alpha):\n",
        "    # - - -\n",
        "    # Function to calculate the confidence interval and prediction interval\n",
        "    # for any user-defined regression function using the delta-method\n",
        "    # as described in Sec 5.1 of the following online statistics lecture:\n",
        "    # https://jchiquet.github.io/MAP566/docs/regression/map566-lecture-nonlinear-regression.html\n",
        "    #\n",
        "    # Greg Pelletier (gjpelletier@gmail.com)\n",
        "    # - - -\n",
        "    # INPUT\n",
        "    # COVB = variance-covariance matrix of the model parameters (e.g. out.covar from lmfit)\n",
        "    # param = best-fit parameters of the regression function\n",
        "    # x_new = new x values to evaluate new predicted y_new values (e.g. x_new=linspace(min(x),max(x),100)\n",
        "    # f = user-defined regression lambda function to predict y given inputs if param and x values (e.g. observed x or x_new)\n",
        "    # \tFor example, if using the 3-parameter nonlinear regression exponential threshold function, then\n",
        "    # \tf = lambda param,xval : param[0] + param[1] * exp(param[2] * xval)\n",
        "    # x = observed x\n",
        "    # y = observed y\n",
        "    # alpha = significance level for the confidence/prediction interval (e.g. alpha=0.05 is the 95% confidence/prediction interval)\n",
        "    # - - -\n",
        "    # OUTPUT\n",
        "    # y_new = predicted y values at x_new\n",
        "    # lwr_conf = lower confidence interval for each value in x_new\n",
        "    # upr_conf = upper confidence interval for each value in x_new\n",
        "    # lwr_pred = lower prediction interval for each value in x_new\n",
        "    # upr_pred = upper prediction interval for each value in x_new\n",
        "    # pvalue = signficance level of the regression from the probability of the F-test\n",
        "    import numpy as np\n",
        "    from scipy import stats\n",
        "    # - - -\n",
        "    # calculate predicted y_new at each x_new\n",
        "    y_new = f(param,x_new)\n",
        "    # calculate derivative gradients at x_new (change in f(x_new) per change in each param using +1ppb change in each param)\n",
        "    grad_new = np.empty(shape=(np.size(x_new),np.size(param)))\n",
        "    h = 1e-8       # h= small change for each param to balance truncation error and rounding error of the gradient\n",
        "    for i in range(np.size(param)):\n",
        "        # make a copy of param\n",
        "        param2 = np.copy(param)\n",
        "        # gradient forward\n",
        "        param2[i] = (1+h) * param[i]\n",
        "        y_new2 = f(param2, x_new)\n",
        "        dy = y_new2 - y_new\n",
        "        dparam = param2[i] - param[i]\n",
        "        grad_up = dy / dparam\n",
        "        # gradient backward\n",
        "        param2[i] = (1-h) * param[i]\n",
        "        y_new2 = f(param2, x_new)\n",
        "        dy = y_new2 - y_new\n",
        "        dparam = param2[i] - param[i]\n",
        "        grad_dn = dy / dparam\n",
        "        # centered gradient is the average gradient forward and backward\n",
        "        grad_new[:,i] = (grad_up + grad_dn) / 2\n",
        "    # calculate variance in y_new due to each parameter and for all parameters combined\n",
        "    G_new = np.matmul(grad_new,COVB) * grad_new         # variance in y_new due to each param at each x_new\n",
        "    GS_new = np.sum(G_new,axis=1)                       # total variance from all param values at each x_new\n",
        "    # - - -\n",
        "    # # lwr_conf and upr_conf are confidence intervals of the best-fit curve\n",
        "    nobs = np.size(x)\n",
        "    nparam = np.size(param)\n",
        "    df = nobs - nparam\n",
        "    qt = stats.t.ppf(1-alpha/2, df)\n",
        "    delta_f = np.sqrt(GS_new) * qt\n",
        "    lwr_conf = y_new - delta_f\n",
        "    upr_conf = y_new + delta_f\n",
        "    # - - -\n",
        "    # # lwr_pred and upr_pred are prediction intervals of new observations\n",
        "    yhat = f(param,x)\n",
        "    SSE = np.sum((y-yhat) ** 2)                 # sum of squares (residual error)\n",
        "    MSE = SSE / df                              # mean square (residual error)\n",
        "    syx = np.sqrt(MSE)                          # std error of the estimate\n",
        "    delta_y = np.sqrt(GS_new + MSE) * qt\n",
        "    lwr_pred = y_new - delta_y\n",
        "    upr_pred = y_new + delta_y\n",
        "    # - - -\n",
        "    # optional additional outputs of regression statistics\n",
        "    SST = np.sum(y **2) - np.sum(y) **2 / nobs  # sum of squares (total)\n",
        "    SSR = SST - SSE                             # sum of squares (regression model)\n",
        "    MSR = SSR / (np.size(param)-1)              # mean square (regression model)\n",
        "    Fstat = MSR / MSE           # F statistic\n",
        "    dfn = np.size(param) - 1    # df numerator = degrees of freedom for model = number of model parameters - 1\n",
        "    dfd = df                    # df denomenator = degrees of freedom of the residual = df = nobs - nparam\n",
        "    pvalue = 1-stats.f.cdf(Fstat, dfn, dfd)      # p-value of F test statistic\n",
        "    rsquared = SSR / SST                                                        # ordinary rsquared\n",
        "    adj_rsquared = 1-(1-rsquared)*(np.size(x)-1)/(np.size(x)-np.size(param)-1)  # adjusted rsquared\n",
        "    # - - -\n",
        "    return y_new, lwr_conf, upr_conf, lwr_pred, upr_pred, pvalue"
      ],
      "metadata": {
        "id": "lcbGFOPpUHi0"
      },
      "execution_count": 11,
      "outputs": []
    },
    {
      "cell_type": "markdown",
      "source": [
        "Before using the delta_method function, we first need to make a few more inputs for it as follows:"
      ],
      "metadata": {
        "id": "jFN6xvz9UmKG"
      }
    },
    {
      "cell_type": "code",
      "source": [
        "# model lambda function to use for any param or xval\n",
        "f = lambda param,xval : (param[0]-param[3])/(1+exp(-param[1]*(xval-param[2])))+param[3]\n",
        "\n",
        "# evenly spaced new observations that extend from below min(x) to above max(x)\n",
        "x_new = linspace(1, 6, 100)\n",
        "\n",
        "# probability level for the prediction limits (e.g. alpha=0.05 for 95% prediction limits and 95% confidence limits)\n",
        "alpha=0.05"
      ],
      "metadata": {
        "id": "WyXnVjSMUmWt"
      },
      "execution_count": 12,
      "outputs": []
    },
    {
      "cell_type": "markdown",
      "source": [
        "Now we are ready to use the delta_method function to find the predicted y_new values, and the 95% prediction limits (lwr_pred and upr_pred), and 95% confidence limits (lwr_conf and upr_conf), at alpha=0.05 for new observations (x_new)"
      ],
      "metadata": {
        "id": "bzNKUGpl9lfy"
      }
    },
    {
      "cell_type": "code",
      "source": [
        "y_new, lwr_conf, upr_conf, lwr_pred, upr_pred, pvalue = delta_method(COVB,param,x_new,f,x,y,alpha)"
      ],
      "metadata": {
        "id": "Qc7EqAds98a8"
      },
      "execution_count": 13,
      "outputs": []
    },
    {
      "cell_type": "markdown",
      "source": [
        "Now we can plot the results of lmfit, combined with the results of the delta_method function to estimate the prediction intervals and confidence intervals."
      ],
      "metadata": {
        "id": "1nD8KFAT-BHM"
      }
    },
    {
      "cell_type": "code",
      "source": [
        "# make string values of fit stats and eqn for the plot labels\n",
        "pstr = '%.2e' %pvalue\n",
        "rsquared = out.rsquared\n",
        "rsqstr = '%.4f' %rsquared\n",
        "b1str = '%.1f' %param[0]\n",
        "b2str = '%.2f' %param[1]\n",
        "b3str = '%.2f' %param[2]\n",
        "b4str = '%.1f' %param[3]\n",
        "eqnstr = 'y = (' + b1str + '-' + b4str + ')/(1+exp(-' + b2str + '*(x-' + b3str + '))+' + b4str\n",
        "\n",
        "# generate the plot\n",
        "plt.figure()\n",
        "plt.plot(x, y, '.', label='observations')\n",
        "# observations\n",
        "plt.plot(x_new, y_new, '-', label='best fit')\n",
        "# 95% prediction limits using the delta method\n",
        "plt.fill_between(x_new, lwr_pred, upr_pred,color=\"#d3d3d3\", label='95% prediction interval')\n",
        "# 95% confidence limits using the delta method\n",
        "plt.fill_between(x_new, lwr_conf, upr_conf,color=\"#ABABAB\", label='95% confidence interval')\n",
        "plt.legend(loc='lower right')\n",
        "plt.suptitle('Delta-method for prediction and confidence intervals')\n",
        "plt.title('using a sigmoid function for Old Faithful waiting times')\n",
        "plt.xlabel('x= eruption length (min)')\n",
        "plt.ylabel('y= waiting time to next eruption (min)')\n",
        "plt.text(1.0, 94, eqnstr, fontsize = 8)\n",
        "plt.text(1.0, 91, 'r^2 = '+rsqstr+', p = '+pstr, fontsize = 8)\n",
        "plt.ticklabel_format(style='plain', axis='y')\n",
        "# plt.ticklabel_format(style='sci', axis='y', scilimits=(0,0))"
      ],
      "metadata": {
        "colab": {
          "base_uri": "https://localhost:8080/",
          "height": 497
        },
        "id": "KO6NHDFp-UcJ",
        "outputId": "d7807136-7eca-464b-cd20-8122947ff7c9"
      },
      "execution_count": 14,
      "outputs": [
        {
          "output_type": "display_data",
          "data": {
            "text/plain": [
              "<Figure size 640x480 with 1 Axes>"
            ],
            "image/png": "[encoded data removed]"
          },
          "metadata": {}
        }
      ]
    }
  ]
}